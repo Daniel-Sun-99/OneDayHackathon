{
 "cells": [
  {
   "cell_type": "code",
   "execution_count": 84,
   "id": "7a0f30e9-c090-496e-8736-cbc6092fcffd",
   "metadata": {},
   "outputs": [],
   "source": [
    "import pandas as pd\n",
    "import numpy as np\n",
    "import matplotlib.pyplot as plt\n",
    "import seaborn as sns\n",
    "\n",
    "from sklearn.metrics import mean_squared_error\n",
    "from sklearn.model_selection import train_test_split, cross_val_score, GridSearchCV\n",
    "from sklearn.preprocessing import PolynomialFeatures, OneHotEncoder, StandardScaler\n",
    "from sklearn.compose import make_column_transformer\n",
    "from sklearn.linear_model import LinearRegression, Lasso, Ridge\n",
    "from sklearn.pipeline import Pipeline\n",
    "from sklearn.ensemble import RandomForestRegressor, AdaBoostRegressor, BaggingRegressor, VotingRegressor\n",
    "from sklearn.neighbors import KNeighborsRegressor\n",
    "from sklearn.feature_selection import RFE\n",
    "from sklearn.tree import DecisionTreeRegressor\n",
    "from sklearn.svm import SVR"
   ]
  },
  {
   "cell_type": "code",
   "execution_count": 2,
   "id": "d44c2bde-03ff-49d1-9fbb-16928d117a4e",
   "metadata": {},
   "outputs": [],
   "source": [
    "hltv_stats = pd.read_csv('../data/hltv_playerStats-complete.csv')"
   ]
  },
  {
   "cell_type": "code",
   "execution_count": 3,
   "id": "34f503fe-bc45-4cee-a3c1-f8d73ceda457",
   "metadata": {},
   "outputs": [
    {
     "data": {
      "text/html": [
       "<div>\n",
       "<style scoped>\n",
       "    .dataframe tbody tr th:only-of-type {\n",
       "        vertical-align: middle;\n",
       "    }\n",
       "\n",
       "    .dataframe tbody tr th {\n",
       "        vertical-align: top;\n",
       "    }\n",
       "\n",
       "    .dataframe thead th {\n",
       "        text-align: right;\n",
       "    }\n",
       "</style>\n",
       "<table border=\"1\" class=\"dataframe\">\n",
       "  <thead>\n",
       "    <tr style=\"text-align: right;\">\n",
       "      <th></th>\n",
       "      <th>nick</th>\n",
       "      <th>country</th>\n",
       "      <th>stats_link</th>\n",
       "      <th>teams</th>\n",
       "      <th>maps_played</th>\n",
       "      <th>rounds_played</th>\n",
       "      <th>kd_difference</th>\n",
       "      <th>kd_ratio</th>\n",
       "      <th>rating</th>\n",
       "      <th>total_kills</th>\n",
       "      <th>headshot_percentage</th>\n",
       "      <th>total_deaths</th>\n",
       "      <th>grenade_damage_per_round</th>\n",
       "      <th>kills_per_round</th>\n",
       "      <th>assists_per_round</th>\n",
       "      <th>deaths_per_round</th>\n",
       "      <th>teammate_saved_per_round</th>\n",
       "      <th>saved_by_teammate_per_round</th>\n",
       "      <th>kast</th>\n",
       "      <th>impact</th>\n",
       "    </tr>\n",
       "  </thead>\n",
       "  <tbody>\n",
       "    <tr>\n",
       "      <th>0</th>\n",
       "      <td>ZywOo</td>\n",
       "      <td>France</td>\n",
       "      <td>https://www.hltv.org//stats/players/11893/zywoo</td>\n",
       "      <td>['Vitality', 'aAa']</td>\n",
       "      <td>970</td>\n",
       "      <td>25491</td>\n",
       "      <td>5917</td>\n",
       "      <td>1.38</td>\n",
       "      <td>1.27</td>\n",
       "      <td>21602</td>\n",
       "      <td>41.3</td>\n",
       "      <td>15685</td>\n",
       "      <td>3.6</td>\n",
       "      <td>0.85</td>\n",
       "      <td>0.13</td>\n",
       "      <td>0.62</td>\n",
       "      <td>0.10</td>\n",
       "      <td>0.12</td>\n",
       "      <td>74.9</td>\n",
       "      <td>1.45</td>\n",
       "    </tr>\n",
       "    <tr>\n",
       "      <th>1</th>\n",
       "      <td>s1mple</td>\n",
       "      <td>Ukraine</td>\n",
       "      <td>https://www.hltv.org//stats/players/7998/s1mple</td>\n",
       "      <td>['Natus Vincere']</td>\n",
       "      <td>1532</td>\n",
       "      <td>40464</td>\n",
       "      <td>8864</td>\n",
       "      <td>1.34</td>\n",
       "      <td>1.25</td>\n",
       "      <td>34647</td>\n",
       "      <td>41.3</td>\n",
       "      <td>25783</td>\n",
       "      <td>2.4</td>\n",
       "      <td>0.86</td>\n",
       "      <td>0.10</td>\n",
       "      <td>0.64</td>\n",
       "      <td>0.08</td>\n",
       "      <td>0.11</td>\n",
       "      <td>74.2</td>\n",
       "      <td>1.36</td>\n",
       "    </tr>\n",
       "    <tr>\n",
       "      <th>2</th>\n",
       "      <td>sh1ro</td>\n",
       "      <td>Russia</td>\n",
       "      <td>https://www.hltv.org//stats/players/16920/sh1ro</td>\n",
       "      <td>['Gambit Youngsters', 'Gambit']</td>\n",
       "      <td>847</td>\n",
       "      <td>22465</td>\n",
       "      <td>5361</td>\n",
       "      <td>1.45</td>\n",
       "      <td>1.23</td>\n",
       "      <td>17320</td>\n",
       "      <td>27.9</td>\n",
       "      <td>11959</td>\n",
       "      <td>3.9</td>\n",
       "      <td>0.77</td>\n",
       "      <td>0.11</td>\n",
       "      <td>0.53</td>\n",
       "      <td>0.08</td>\n",
       "      <td>0.11</td>\n",
       "      <td>76.3</td>\n",
       "      <td>1.21</td>\n",
       "    </tr>\n",
       "    <tr>\n",
       "      <th>3</th>\n",
       "      <td>deko</td>\n",
       "      <td>Russia</td>\n",
       "      <td>https://www.hltv.org//stats/players/20113/deko</td>\n",
       "      <td>['1WIN']</td>\n",
       "      <td>378</td>\n",
       "      <td>10219</td>\n",
       "      <td>2225</td>\n",
       "      <td>1.37</td>\n",
       "      <td>1.22</td>\n",
       "      <td>8219</td>\n",
       "      <td>36.9</td>\n",
       "      <td>5994</td>\n",
       "      <td>3.3</td>\n",
       "      <td>0.80</td>\n",
       "      <td>0.10</td>\n",
       "      <td>0.59</td>\n",
       "      <td>0.09</td>\n",
       "      <td>0.11</td>\n",
       "      <td>74.5</td>\n",
       "      <td>1.21</td>\n",
       "    </tr>\n",
       "    <tr>\n",
       "      <th>4</th>\n",
       "      <td>Kaze</td>\n",
       "      <td>Malaysia</td>\n",
       "      <td>https://www.hltv.org//stats/players/8950/kaze</td>\n",
       "      <td>['ViCi', 'Flash', 'MVP.karnal']</td>\n",
       "      <td>829</td>\n",
       "      <td>21617</td>\n",
       "      <td>4118</td>\n",
       "      <td>1.32</td>\n",
       "      <td>1.20</td>\n",
       "      <td>16957</td>\n",
       "      <td>30.3</td>\n",
       "      <td>12839</td>\n",
       "      <td>2.9</td>\n",
       "      <td>0.78</td>\n",
       "      <td>0.11</td>\n",
       "      <td>0.59</td>\n",
       "      <td>0.08</td>\n",
       "      <td>0.10</td>\n",
       "      <td>73.7</td>\n",
       "      <td>1.24</td>\n",
       "    </tr>\n",
       "  </tbody>\n",
       "</table>\n",
       "</div>"
      ],
      "text/plain": [
       "     nick   country                                       stats_link  \\\n",
       "0   ZywOo    France  https://www.hltv.org//stats/players/11893/zywoo   \n",
       "1  s1mple   Ukraine  https://www.hltv.org//stats/players/7998/s1mple   \n",
       "2   sh1ro    Russia  https://www.hltv.org//stats/players/16920/sh1ro   \n",
       "3    deko    Russia   https://www.hltv.org//stats/players/20113/deko   \n",
       "4    Kaze  Malaysia    https://www.hltv.org//stats/players/8950/kaze   \n",
       "\n",
       "                             teams  maps_played  rounds_played  kd_difference  \\\n",
       "0              ['Vitality', 'aAa']          970          25491           5917   \n",
       "1                ['Natus Vincere']         1532          40464           8864   \n",
       "2  ['Gambit Youngsters', 'Gambit']          847          22465           5361   \n",
       "3                         ['1WIN']          378          10219           2225   \n",
       "4  ['ViCi', 'Flash', 'MVP.karnal']          829          21617           4118   \n",
       "\n",
       "   kd_ratio  rating  total_kills  headshot_percentage  total_deaths  \\\n",
       "0      1.38    1.27        21602                 41.3         15685   \n",
       "1      1.34    1.25        34647                 41.3         25783   \n",
       "2      1.45    1.23        17320                 27.9         11959   \n",
       "3      1.37    1.22         8219                 36.9          5994   \n",
       "4      1.32    1.20        16957                 30.3         12839   \n",
       "\n",
       "   grenade_damage_per_round  kills_per_round  assists_per_round  \\\n",
       "0                       3.6             0.85               0.13   \n",
       "1                       2.4             0.86               0.10   \n",
       "2                       3.9             0.77               0.11   \n",
       "3                       3.3             0.80               0.10   \n",
       "4                       2.9             0.78               0.11   \n",
       "\n",
       "   deaths_per_round  teammate_saved_per_round  saved_by_teammate_per_round  \\\n",
       "0              0.62                      0.10                         0.12   \n",
       "1              0.64                      0.08                         0.11   \n",
       "2              0.53                      0.08                         0.11   \n",
       "3              0.59                      0.09                         0.11   \n",
       "4              0.59                      0.08                         0.10   \n",
       "\n",
       "   kast  impact  \n",
       "0  74.9    1.45  \n",
       "1  74.2    1.36  \n",
       "2  76.3    1.21  \n",
       "3  74.5    1.21  \n",
       "4  73.7    1.24  "
      ]
     },
     "execution_count": 3,
     "metadata": {},
     "output_type": "execute_result"
    }
   ],
   "source": [
    "hltv_stats.head()"
   ]
  },
  {
   "cell_type": "code",
   "execution_count": 4,
   "id": "2f2c6f83-713b-49d2-8a6f-943b99fe8d6b",
   "metadata": {},
   "outputs": [
    {
     "data": {
      "text/plain": [
       "(803, 20)"
      ]
     },
     "execution_count": 4,
     "metadata": {},
     "output_type": "execute_result"
    }
   ],
   "source": [
    "hltv_stats.shape"
   ]
  },
  {
   "cell_type": "code",
   "execution_count": 5,
   "id": "774b3cc2-c4d5-4860-97d6-a4e81efe79ad",
   "metadata": {},
   "outputs": [
    {
     "name": "stdout",
     "output_type": "stream",
     "text": [
      "<class 'pandas.core.frame.DataFrame'>\n",
      "RangeIndex: 803 entries, 0 to 802\n",
      "Data columns (total 20 columns):\n",
      " #   Column                       Non-Null Count  Dtype  \n",
      "---  ------                       --------------  -----  \n",
      " 0   nick                         803 non-null    object \n",
      " 1   country                      803 non-null    object \n",
      " 2   stats_link                   803 non-null    object \n",
      " 3   teams                        803 non-null    object \n",
      " 4   maps_played                  803 non-null    int64  \n",
      " 5   rounds_played                803 non-null    int64  \n",
      " 6   kd_difference                803 non-null    int64  \n",
      " 7   kd_ratio                     803 non-null    float64\n",
      " 8   rating                       803 non-null    float64\n",
      " 9   total_kills                  803 non-null    int64  \n",
      " 10  headshot_percentage          803 non-null    float64\n",
      " 11  total_deaths                 803 non-null    int64  \n",
      " 12  grenade_damage_per_round     803 non-null    float64\n",
      " 13  kills_per_round              803 non-null    float64\n",
      " 14  assists_per_round            803 non-null    float64\n",
      " 15  deaths_per_round             803 non-null    float64\n",
      " 16  teammate_saved_per_round     803 non-null    float64\n",
      " 17  saved_by_teammate_per_round  803 non-null    float64\n",
      " 18  kast                         803 non-null    float64\n",
      " 19  impact                       803 non-null    float64\n",
      "dtypes: float64(11), int64(5), object(4)\n",
      "memory usage: 125.6+ KB\n"
     ]
    }
   ],
   "source": [
    "hltv_stats.info()"
   ]
  },
  {
   "cell_type": "code",
   "execution_count": 6,
   "id": "e1ffc544-80ee-4f59-ac12-880ea8b5069e",
   "metadata": {},
   "outputs": [
    {
     "data": {
      "text/plain": [
       "str"
      ]
     },
     "execution_count": 6,
     "metadata": {},
     "output_type": "execute_result"
    }
   ],
   "source": [
    "type(hltv_stats['teams'][0])"
   ]
  },
  {
   "cell_type": "code",
   "execution_count": 7,
   "id": "7397d9d2-a010-40c7-bd97-3b491c60f1fb",
   "metadata": {},
   "outputs": [],
   "source": [
    "hltv_stats.drop(columns = ['nick', 'stats_link', 'teams'], inplace = True)"
   ]
  },
  {
   "cell_type": "code",
   "execution_count": 8,
   "id": "3474a285-a7be-471a-9fff-9c548f9b4814",
   "metadata": {},
   "outputs": [
    {
     "data": {
      "text/html": [
       "<div>\n",
       "<style scoped>\n",
       "    .dataframe tbody tr th:only-of-type {\n",
       "        vertical-align: middle;\n",
       "    }\n",
       "\n",
       "    .dataframe tbody tr th {\n",
       "        vertical-align: top;\n",
       "    }\n",
       "\n",
       "    .dataframe thead th {\n",
       "        text-align: right;\n",
       "    }\n",
       "</style>\n",
       "<table border=\"1\" class=\"dataframe\">\n",
       "  <thead>\n",
       "    <tr style=\"text-align: right;\">\n",
       "      <th></th>\n",
       "      <th>maps_played</th>\n",
       "      <th>rounds_played</th>\n",
       "      <th>kd_difference</th>\n",
       "      <th>kd_ratio</th>\n",
       "      <th>rating</th>\n",
       "      <th>total_kills</th>\n",
       "      <th>headshot_percentage</th>\n",
       "      <th>total_deaths</th>\n",
       "      <th>grenade_damage_per_round</th>\n",
       "      <th>kills_per_round</th>\n",
       "      <th>assists_per_round</th>\n",
       "      <th>deaths_per_round</th>\n",
       "      <th>teammate_saved_per_round</th>\n",
       "      <th>saved_by_teammate_per_round</th>\n",
       "      <th>kast</th>\n",
       "      <th>impact</th>\n",
       "    </tr>\n",
       "  </thead>\n",
       "  <tbody>\n",
       "    <tr>\n",
       "      <th>count</th>\n",
       "      <td>803.00</td>\n",
       "      <td>803.00</td>\n",
       "      <td>803.00</td>\n",
       "      <td>803.00</td>\n",
       "      <td>803.00</td>\n",
       "      <td>803.00</td>\n",
       "      <td>803.00</td>\n",
       "      <td>803.00</td>\n",
       "      <td>803.00</td>\n",
       "      <td>803.00</td>\n",
       "      <td>803.00</td>\n",
       "      <td>803.00</td>\n",
       "      <td>803.00</td>\n",
       "      <td>803.00</td>\n",
       "      <td>803.00</td>\n",
       "      <td>803.00</td>\n",
       "    </tr>\n",
       "    <tr>\n",
       "      <th>mean</th>\n",
       "      <td>833.17</td>\n",
       "      <td>21893.60</td>\n",
       "      <td>585.47</td>\n",
       "      <td>1.04</td>\n",
       "      <td>1.01</td>\n",
       "      <td>15142.09</td>\n",
       "      <td>45.46</td>\n",
       "      <td>14556.52</td>\n",
       "      <td>4.06</td>\n",
       "      <td>0.69</td>\n",
       "      <td>0.13</td>\n",
       "      <td>0.67</td>\n",
       "      <td>0.10</td>\n",
       "      <td>0.10</td>\n",
       "      <td>70.11</td>\n",
       "      <td>1.05</td>\n",
       "    </tr>\n",
       "    <tr>\n",
       "      <th>std</th>\n",
       "      <td>402.39</td>\n",
       "      <td>10607.75</td>\n",
       "      <td>1475.81</td>\n",
       "      <td>0.09</td>\n",
       "      <td>0.07</td>\n",
       "      <td>7539.73</td>\n",
       "      <td>8.42</td>\n",
       "      <td>7018.03</td>\n",
       "      <td>1.19</td>\n",
       "      <td>0.04</td>\n",
       "      <td>0.02</td>\n",
       "      <td>0.03</td>\n",
       "      <td>0.01</td>\n",
       "      <td>0.01</td>\n",
       "      <td>1.79</td>\n",
       "      <td>0.10</td>\n",
       "    </tr>\n",
       "    <tr>\n",
       "      <th>min</th>\n",
       "      <td>374.00</td>\n",
       "      <td>9498.00</td>\n",
       "      <td>-6238.00</td>\n",
       "      <td>0.74</td>\n",
       "      <td>0.77</td>\n",
       "      <td>5530.00</td>\n",
       "      <td>23.60</td>\n",
       "      <td>5994.00</td>\n",
       "      <td>1.40</td>\n",
       "      <td>0.52</td>\n",
       "      <td>0.08</td>\n",
       "      <td>0.53</td>\n",
       "      <td>0.04</td>\n",
       "      <td>0.06</td>\n",
       "      <td>63.30</td>\n",
       "      <td>0.70</td>\n",
       "    </tr>\n",
       "    <tr>\n",
       "      <th>25%</th>\n",
       "      <td>500.50</td>\n",
       "      <td>13227.00</td>\n",
       "      <td>-283.00</td>\n",
       "      <td>0.98</td>\n",
       "      <td>0.97</td>\n",
       "      <td>9092.50</td>\n",
       "      <td>40.50</td>\n",
       "      <td>8842.50</td>\n",
       "      <td>3.20</td>\n",
       "      <td>0.66</td>\n",
       "      <td>0.12</td>\n",
       "      <td>0.65</td>\n",
       "      <td>0.09</td>\n",
       "      <td>0.09</td>\n",
       "      <td>69.00</td>\n",
       "      <td>0.99</td>\n",
       "    </tr>\n",
       "    <tr>\n",
       "      <th>50%</th>\n",
       "      <td>734.00</td>\n",
       "      <td>19174.00</td>\n",
       "      <td>358.00</td>\n",
       "      <td>1.03</td>\n",
       "      <td>1.01</td>\n",
       "      <td>13132.00</td>\n",
       "      <td>47.30</td>\n",
       "      <td>12603.00</td>\n",
       "      <td>3.90</td>\n",
       "      <td>0.69</td>\n",
       "      <td>0.13</td>\n",
       "      <td>0.67</td>\n",
       "      <td>0.10</td>\n",
       "      <td>0.10</td>\n",
       "      <td>70.10</td>\n",
       "      <td>1.06</td>\n",
       "    </tr>\n",
       "    <tr>\n",
       "      <th>75%</th>\n",
       "      <td>1059.00</td>\n",
       "      <td>27881.00</td>\n",
       "      <td>1313.50</td>\n",
       "      <td>1.09</td>\n",
       "      <td>1.05</td>\n",
       "      <td>19214.00</td>\n",
       "      <td>51.45</td>\n",
       "      <td>18226.50</td>\n",
       "      <td>4.80</td>\n",
       "      <td>0.72</td>\n",
       "      <td>0.14</td>\n",
       "      <td>0.69</td>\n",
       "      <td>0.10</td>\n",
       "      <td>0.11</td>\n",
       "      <td>71.40</td>\n",
       "      <td>1.12</td>\n",
       "    </tr>\n",
       "    <tr>\n",
       "      <th>max</th>\n",
       "      <td>2169.00</td>\n",
       "      <td>56914.00</td>\n",
       "      <td>8864.00</td>\n",
       "      <td>1.45</td>\n",
       "      <td>1.27</td>\n",
       "      <td>40884.00</td>\n",
       "      <td>68.40</td>\n",
       "      <td>38351.00</td>\n",
       "      <td>9.10</td>\n",
       "      <td>0.86</td>\n",
       "      <td>0.18</td>\n",
       "      <td>0.75</td>\n",
       "      <td>0.14</td>\n",
       "      <td>0.16</td>\n",
       "      <td>76.30</td>\n",
       "      <td>1.45</td>\n",
       "    </tr>\n",
       "  </tbody>\n",
       "</table>\n",
       "</div>"
      ],
      "text/plain": [
       "       maps_played  rounds_played  kd_difference  kd_ratio  rating  \\\n",
       "count       803.00         803.00         803.00    803.00  803.00   \n",
       "mean        833.17       21893.60         585.47      1.04    1.01   \n",
       "std         402.39       10607.75        1475.81      0.09    0.07   \n",
       "min         374.00        9498.00       -6238.00      0.74    0.77   \n",
       "25%         500.50       13227.00        -283.00      0.98    0.97   \n",
       "50%         734.00       19174.00         358.00      1.03    1.01   \n",
       "75%        1059.00       27881.00        1313.50      1.09    1.05   \n",
       "max        2169.00       56914.00        8864.00      1.45    1.27   \n",
       "\n",
       "       total_kills  headshot_percentage  total_deaths  \\\n",
       "count       803.00               803.00        803.00   \n",
       "mean      15142.09                45.46      14556.52   \n",
       "std        7539.73                 8.42       7018.03   \n",
       "min        5530.00                23.60       5994.00   \n",
       "25%        9092.50                40.50       8842.50   \n",
       "50%       13132.00                47.30      12603.00   \n",
       "75%       19214.00                51.45      18226.50   \n",
       "max       40884.00                68.40      38351.00   \n",
       "\n",
       "       grenade_damage_per_round  kills_per_round  assists_per_round  \\\n",
       "count                    803.00           803.00             803.00   \n",
       "mean                       4.06             0.69               0.13   \n",
       "std                        1.19             0.04               0.02   \n",
       "min                        1.40             0.52               0.08   \n",
       "25%                        3.20             0.66               0.12   \n",
       "50%                        3.90             0.69               0.13   \n",
       "75%                        4.80             0.72               0.14   \n",
       "max                        9.10             0.86               0.18   \n",
       "\n",
       "       deaths_per_round  teammate_saved_per_round  \\\n",
       "count            803.00                    803.00   \n",
       "mean               0.67                      0.10   \n",
       "std                0.03                      0.01   \n",
       "min                0.53                      0.04   \n",
       "25%                0.65                      0.09   \n",
       "50%                0.67                      0.10   \n",
       "75%                0.69                      0.10   \n",
       "max                0.75                      0.14   \n",
       "\n",
       "       saved_by_teammate_per_round    kast  impact  \n",
       "count                       803.00  803.00  803.00  \n",
       "mean                          0.10   70.11    1.05  \n",
       "std                           0.01    1.79    0.10  \n",
       "min                           0.06   63.30    0.70  \n",
       "25%                           0.09   69.00    0.99  \n",
       "50%                           0.10   70.10    1.06  \n",
       "75%                           0.11   71.40    1.12  \n",
       "max                           0.16   76.30    1.45  "
      ]
     },
     "execution_count": 8,
     "metadata": {},
     "output_type": "execute_result"
    }
   ],
   "source": [
    "round(hltv_stats.describe(), 2)"
   ]
  },
  {
   "cell_type": "code",
   "execution_count": 9,
   "id": "b49c013d-94e3-46a1-86a7-905ba442be06",
   "metadata": {},
   "outputs": [
    {
     "data": {
      "text/plain": [
       "<AxesSubplot:>"
      ]
     },
     "execution_count": 9,
     "metadata": {},
     "output_type": "execute_result"
    },
    {
     "data": {
      "image/png": "[encoded data removed]",
      "text/plain": [
       "<Figure size 432x288 with 2 Axes>"
      ]
     },
     "metadata": {
      "needs_background": "light"
     },
     "output_type": "display_data"
    }
   ],
   "source": [
    "sns.heatmap(hltv_stats.corr(), vmin = -1, cmap = 'viridis')"
   ]
  },
  {
   "cell_type": "markdown",
   "id": "62ddf8c1-3c7a-4394-9bb8-d1e6f22562ab",
   "metadata": {},
   "source": [
    "-------"
   ]
  },
  {
   "cell_type": "markdown",
   "id": "1d7e997d-3d63-40c2-b7ff-75f8023dbe52",
   "metadata": {},
   "source": [
    "## Feature engineering(?)"
   ]
  },
  {
   "cell_type": "code",
   "execution_count": 10,
   "id": "388ecf49-2e08-4743-8e0f-defe2dafc908",
   "metadata": {},
   "outputs": [],
   "source": [
    "hltv_stats['kills_per_map'] = hltv_stats['total_kills'] / hltv_stats['maps_played']"
   ]
  },
  {
   "cell_type": "code",
   "execution_count": 11,
   "id": "fba05241-3531-47fc-9294-f0b461b5818b",
   "metadata": {},
   "outputs": [
    {
     "data": {
      "text/plain": [
       "0      22.270103\n",
       "1      22.615535\n",
       "2      20.448642\n",
       "3      21.743386\n",
       "4      20.454765\n",
       "         ...    \n",
       "798    14.985539\n",
       "799    14.841758\n",
       "800    14.239544\n",
       "801    14.528646\n",
       "802    13.487805\n",
       "Name: kills_per_map, Length: 803, dtype: float64"
      ]
     },
     "execution_count": 11,
     "metadata": {},
     "output_type": "execute_result"
    }
   ],
   "source": [
    "hltv_stats['kills_per_map']"
   ]
  },
  {
   "cell_type": "markdown",
   "id": "c6fe7351-d11d-4aa7-856b-6a45995e665c",
   "metadata": {},
   "source": [
    "-----------------------"
   ]
  },
  {
   "cell_type": "markdown",
   "id": "3dccccc9-3f4a-44a9-9f4e-bbabb076e27e",
   "metadata": {},
   "source": [
    "## Preprocessing"
   ]
  },
  {
   "cell_type": "code",
   "execution_count": 12,
   "id": "09250c94-4e49-445f-95ee-2b7f50617e29",
   "metadata": {},
   "outputs": [],
   "source": [
    "ohe = OneHotEncoder(drop = 'if_binary', handle_unknown = 'ignore')\n",
    "\n",
    "smart_encoder = make_column_transformer(\n",
    "    (ohe, ['country']),\n",
    "    remainder = 'passthrough',\n",
    "    verbose_feature_names_out = False,\n",
    "    n_jobs = -1\n",
    ")"
   ]
  },
  {
   "cell_type": "code",
   "execution_count": 13,
   "id": "6a53bcc3-f02c-442e-b468-4d6e64a74212",
   "metadata": {},
   "outputs": [],
   "source": [
    "hltv_stats = pd.DataFrame(smart_encoder.fit_transform(hltv_stats).A, columns = smart_encoder.get_feature_names_out())"
   ]
  },
  {
   "cell_type": "code",
   "execution_count": 14,
   "id": "34d9f814-c09d-4ab5-94b6-05bd28a6e9e5",
   "metadata": {},
   "outputs": [],
   "source": [
    "X = hltv_stats.drop(columns = 'impact')\n",
    "y = hltv_stats['impact']"
   ]
  },
  {
   "cell_type": "markdown",
   "id": "d26ae911-f9b6-4578-8141-7cf6e7d6740b",
   "metadata": {},
   "source": [
    "## Quick baseline"
   ]
  },
  {
   "cell_type": "code",
   "execution_count": 15,
   "id": "cf10c2af-f6ee-4a9e-917f-6ba13e50dc40",
   "metadata": {},
   "outputs": [
    {
     "data": {
      "text/plain": [
       "0.10009131869182213"
      ]
     },
     "execution_count": 15,
     "metadata": {},
     "output_type": "execute_result"
    }
   ],
   "source": [
    "mean_squared_error(y, np.full_like(y, y.mean()), squared = False)"
   ]
  },
  {
   "cell_type": "markdown",
   "id": "2efaf5ef-2d2f-44ee-b7c4-2df23960ff43",
   "metadata": {},
   "source": [
    "-------------"
   ]
  },
  {
   "cell_type": "markdown",
   "id": "ff15bf88-58d0-42b8-85ab-b6c578a51751",
   "metadata": {},
   "source": [
    "## Train Test Split"
   ]
  },
  {
   "cell_type": "code",
   "execution_count": 16,
   "id": "c7cb34bf-c1f7-48a5-b321-cdef326d5e30",
   "metadata": {},
   "outputs": [],
   "source": [
    "X_train, X_test, y_train, y_test = train_test_split(X, y, random_state = 1)"
   ]
  },
  {
   "cell_type": "code",
   "execution_count": 17,
   "id": "1bcbedab-5596-4ab2-a955-88f06b7f3908",
   "metadata": {},
   "outputs": [
    {
     "data": {
      "text/plain": [
       "(602, 69)"
      ]
     },
     "execution_count": 17,
     "metadata": {},
     "output_type": "execute_result"
    }
   ],
   "source": [
    "X_train.shape"
   ]
  },
  {
   "cell_type": "code",
   "execution_count": 18,
   "id": "78142cbe-d6bb-4f7e-a5cf-6aa2462a1a8c",
   "metadata": {},
   "outputs": [
    {
     "data": {
      "text/plain": [
       "(602,)"
      ]
     },
     "execution_count": 18,
     "metadata": {},
     "output_type": "execute_result"
    }
   ],
   "source": [
    "y_train.shape"
   ]
  },
  {
   "cell_type": "markdown",
   "id": "a5d77fc2-6d3f-4c22-b5c1-a4f05eaf3522",
   "metadata": {},
   "source": [
    "## Basic Linear Regression"
   ]
  },
  {
   "cell_type": "code",
   "execution_count": 19,
   "id": "3fcbe2c6-9f3d-4bff-ac2e-f4060052d5be",
   "metadata": {},
   "outputs": [],
   "source": [
    "lrpipe = Pipeline(\n",
    "    [\n",
    "        #('ohe' , ohe), #moved to before splitting\n",
    "        #('pf', PolynomialFeatures()),\n",
    "        ('lr' , LinearRegression())\n",
    "    ]\n",
    ")"
   ]
  },
  {
   "cell_type": "code",
   "execution_count": 20,
   "id": "64ad996f-d958-41e9-bf14-0d6336f8a99c",
   "metadata": {},
   "outputs": [
    {
     "data": {
      "text/plain": [
       "Pipeline(steps=[('lr', LinearRegression())])"
      ]
     },
     "execution_count": 20,
     "metadata": {},
     "output_type": "execute_result"
    }
   ],
   "source": [
    "lrpipe.fit(X_train, y_train)"
   ]
  },
  {
   "cell_type": "code",
   "execution_count": 21,
   "id": "02506a4d-04b4-418a-be93-c048f10a2fc5",
   "metadata": {},
   "outputs": [
    {
     "data": {
      "text/plain": [
       "(0.8643895493355243, 0.7941403436382358)"
      ]
     },
     "execution_count": 21,
     "metadata": {},
     "output_type": "execute_result"
    }
   ],
   "source": [
    "lrpipe.score(X_train, y_train), lrpipe.score(X_test, y_test)"
   ]
  },
  {
   "cell_type": "code",
   "execution_count": 22,
   "id": "e26e1263-bf85-4239-af33-cf3159d5cede",
   "metadata": {},
   "outputs": [
    {
     "data": {
      "text/plain": [
       "0.048585392505635414"
      ]
     },
     "execution_count": 22,
     "metadata": {},
     "output_type": "execute_result"
    }
   ],
   "source": [
    "mean_squared_error(y_test, lrpipe.predict(X_test), squared = False)"
   ]
  },
  {
   "cell_type": "code",
   "execution_count": 23,
   "id": "abac9975-ddce-4967-afdb-06ae729a4194",
   "metadata": {},
   "outputs": [
    {
     "data": {
      "text/plain": [
       "array([ 1.33577254e-03,  4.32219088e-03,  4.15132383e-03, -2.32608282e-02,\n",
       "        9.64242401e-04,  1.20805264e-02,  7.59169247e-04, -4.45403702e-03,\n",
       "        7.05148937e-03, -1.28683580e-02,  8.48809375e-03, -7.04518488e-03,\n",
       "       -3.95629901e-03, -3.27317484e-03, -1.48167111e-02,  4.04995969e-03,\n",
       "        3.42738687e-03, -3.56492255e-02, -3.25526843e-02, -6.97885877e-03,\n",
       "        7.83337798e-03,  1.48668000e-02,  3.43160900e-02,  1.54390389e-15,\n",
       "        3.75024508e-02, -1.20642877e-02, -1.02421243e-02,  1.52655666e-15,\n",
       "        1.41915484e-03,  2.19326838e-02, -9.13218973e-03,  6.31654492e-03,\n",
       "       -2.83574960e-02, -1.99832069e-02, -1.31194072e-02,  2.76408932e-02,\n",
       "        8.84608977e-03,  2.97940812e-03,  9.89405533e-03,  3.25004918e-02,\n",
       "       -7.81271447e-03,  3.53954366e-02, -6.00655654e-03, -1.48974443e-02,\n",
       "       -8.22807128e-02,  1.91616090e-02,  8.96945341e-03,  2.86044927e-02,\n",
       "       -5.20004646e-04, -2.33921986e-03, -5.56478660e-03, -8.20199813e-03,\n",
       "        2.05683233e-02, -7.43924430e-04,  1.16786897e-05, -1.04991564e-03,\n",
       "       -3.46472616e-02,  1.88268408e+00,  1.05043293e-03, -2.21375104e-03,\n",
       "       -1.02612213e-03,  7.74010321e-03,  5.19486405e-02, -9.34176652e-02,\n",
       "        1.27603969e+00,  1.24740772e+00, -1.20845740e+00, -2.01579167e-03,\n",
       "       -4.44765143e-03])"
      ]
     },
     "execution_count": 23,
     "metadata": {},
     "output_type": "execute_result"
    }
   ],
   "source": [
    "lrpipe.named_steps.lr.coef_"
   ]
  },
  {
   "cell_type": "code",
   "execution_count": 121,
   "id": "13f15fbb-8eb1-4da4-b5d8-2512a7f0f221",
   "metadata": {},
   "outputs": [],
   "source": [
    "rfe = RFE(LinearRegression())"
   ]
  },
  {
   "cell_type": "code",
   "execution_count": 122,
   "id": "529be987-f882-49b2-8428-b71a11077d06",
   "metadata": {},
   "outputs": [
    {
     "data": {
      "text/plain": [
       "RFE(estimator=LinearRegression())"
      ]
     },
     "execution_count": 122,
     "metadata": {},
     "output_type": "execute_result"
    }
   ],
   "source": [
    "rfe.fit(X_train, y_train)"
   ]
  },
  {
   "cell_type": "code",
   "execution_count": 123,
   "id": "c1222eca-21d0-43ce-b250-a8e69a7e20fb",
   "metadata": {},
   "outputs": [
    {
     "data": {
      "text/plain": [
       "(0.8293925752285217, 0.7482957569804327)"
      ]
     },
     "execution_count": 123,
     "metadata": {},
     "output_type": "execute_result"
    }
   ],
   "source": [
    "rfe.score(X_train, y_train), rfe.score(X_test, y_test)"
   ]
  },
  {
   "cell_type": "markdown",
   "id": "d4d83bf8-b007-46fd-845b-9217dbafd1c7",
   "metadata": {},
   "source": [
    "-----"
   ]
  },
  {
   "cell_type": "markdown",
   "id": "d3899413-349d-4ae7-8b01-fffa5f0e37ad",
   "metadata": {},
   "source": [
    "## Lasso and Ridge"
   ]
  },
  {
   "cell_type": "code",
   "execution_count": 72,
   "id": "5e913043-4bf1-4e93-bbc5-20dd16c19ab4",
   "metadata": {},
   "outputs": [],
   "source": [
    "lasso = Lasso(max_iter = 10_000)"
   ]
  },
  {
   "cell_type": "code",
   "execution_count": 73,
   "id": "51c8b547-0a6e-4d37-b61e-c9f7bc400ab4",
   "metadata": {},
   "outputs": [
    {
     "data": {
      "text/plain": [
       "(0.6299801600607315, 0.7029430845388706)"
      ]
     },
     "execution_count": 73,
     "metadata": {},
     "output_type": "execute_result"
    }
   ],
   "source": [
    "lasGrid = GridSearchCV(lasso, {'alpha':np.linspace(0.1,5,20)})\n",
    "lasGrid.fit(X_train, y_train)\n",
    "lasGrid.score(X_train, y_train), lasGrid.score(X_test, y_test)"
   ]
  },
  {
   "cell_type": "code",
   "execution_count": 74,
   "id": "56c1f09c-2ef0-4a82-aa4c-1295992a6ce4",
   "metadata": {},
   "outputs": [
    {
     "data": {
      "text/plain": [
       "(0.8311444645635884, 0.8202203672068528)"
      ]
     },
     "execution_count": 74,
     "metadata": {},
     "output_type": "execute_result"
    }
   ],
   "source": [
    "ridge = Ridge(max_iter = 10_000)\n",
    "ridGrid = GridSearchCV(ridge, {'alpha':np.linspace(0.1,5,20)})\n",
    "ridGrid.fit(X_train, y_train)\n",
    "ridGrid.score(X_train, y_train), ridGrid.score(X_test, y_test)"
   ]
  },
  {
   "cell_type": "code",
   "execution_count": 75,
   "id": "520b7aa5-cfbe-4ef7-aebb-c9f01ce2b460",
   "metadata": {},
   "outputs": [
    {
     "data": {
      "text/plain": [
       "0.045403605168677995"
      ]
     },
     "execution_count": 75,
     "metadata": {},
     "output_type": "execute_result"
    }
   ],
   "source": [
    "mean_squared_error(y_test, ridGrid.predict(X_test), squared = False)"
   ]
  },
  {
   "cell_type": "code",
   "execution_count": 87,
   "id": "8deef558-efa1-4bc9-8bd9-1b28cddd0b77",
   "metadata": {},
   "outputs": [
    {
     "data": {
      "text/plain": [
       "Ridge(alpha=5.0, max_iter=10000)"
      ]
     },
     "execution_count": 87,
     "metadata": {},
     "output_type": "execute_result"
    }
   ],
   "source": [
    "ridGrid.best_estimator_"
   ]
  },
  {
   "cell_type": "markdown",
   "id": "76513779-f1fd-450d-898f-4aefda0ffd48",
   "metadata": {},
   "source": [
    "-------best_estimator_"
   ]
  },
  {
   "cell_type": "markdown",
   "id": "d25129d0-246e-4fa9-b2ee-33123245acc3",
   "metadata": {},
   "source": [
    "## KNN"
   ]
  },
  {
   "cell_type": "code",
   "execution_count": 24,
   "id": "7a33241d-b524-428f-b65f-188052045b24",
   "metadata": {
    "tags": []
   },
   "outputs": [],
   "source": [
    "knnParams = {\n",
    "    'knn__n_neighbors' : [3, 5, 7, 10]\n",
    "}"
   ]
  },
  {
   "cell_type": "code",
   "execution_count": 25,
   "id": "39ab56dc-4fa2-4150-a528-d684930a08a5",
   "metadata": {},
   "outputs": [],
   "source": [
    "knnPipe = Pipeline(\n",
    "    [\n",
    "        ('ss', StandardScaler()),\n",
    "        ('knn', KNeighborsRegressor(n_jobs = -1))\n",
    "    ]\n",
    ")"
   ]
  },
  {
   "cell_type": "code",
   "execution_count": 26,
   "id": "b7c98ed3-d9bb-4d71-92e8-eeb6fbbceab9",
   "metadata": {},
   "outputs": [
    {
     "data": {
      "text/plain": [
       "(0.5326614212479428, 0.47560627757583074)"
      ]
     },
     "execution_count": 26,
     "metadata": {},
     "output_type": "execute_result"
    }
   ],
   "source": [
    "knnGrid = GridSearchCV(knnPipe, knnParams)\n",
    "knnGrid.fit(X_train, y_train)\n",
    "knnGrid.score(X_train, y_train), knnGrid.score(X_test, y_test)"
   ]
  },
  {
   "cell_type": "markdown",
   "id": "20b3dc1f-992c-4442-bdf9-c0181142d8fd",
   "metadata": {},
   "source": [
    "----"
   ]
  },
  {
   "cell_type": "markdown",
   "id": "e1f798f1-8b27-4881-b8ee-1416f7fc2397",
   "metadata": {},
   "source": [
    "## SVR"
   ]
  },
  {
   "cell_type": "code",
   "execution_count": 27,
   "id": "fca3ab1f-3b6d-431b-8ffd-81a4382fae2e",
   "metadata": {},
   "outputs": [],
   "source": [
    "svrParams = {\n",
    "    'svr__kernel' : ('linear', 'poly', 'rbf'),\n",
    "    'svr__C' : np.linspace(1, 20, 15),\n",
    "    'svr__epsilon' : np.linspace(0.001, 0.1, 5)\n",
    "    \n",
    "}"
   ]
  },
  {
   "cell_type": "code",
   "execution_count": 28,
   "id": "2079a9fc-b1be-4c0b-b953-8b681749ca16",
   "metadata": {},
   "outputs": [],
   "source": [
    "pipe_svr = Pipeline(\n",
    "    [\n",
    "        ('sc', StandardScaler()),\n",
    "        ('svr', SVR())\n",
    "    ]\n",
    ")"
   ]
  },
  {
   "cell_type": "code",
   "execution_count": 29,
   "id": "753a0e51-7b3b-4f03-ae00-b11d078d0ca1",
   "metadata": {},
   "outputs": [
    {
     "data": {
      "text/plain": [
       "GridSearchCV(estimator=Pipeline(steps=[('sc', StandardScaler()),\n",
       "                                       ('svr', SVR())]),\n",
       "             param_grid={'svr__C': array([ 1.        ,  2.35714286,  3.71428571,  5.07142857,  6.42857143,\n",
       "        7.78571429,  9.14285714, 10.5       , 11.85714286, 13.21428571,\n",
       "       14.57142857, 15.92857143, 17.28571429, 18.64285714, 20.        ]),\n",
       "                         'svr__epsilon': array([0.001  , 0.02575, 0.0505 , 0.07525, 0.1    ]),\n",
       "                         'svr__kernel': ('linear', 'poly', 'rbf')})"
      ]
     },
     "execution_count": 29,
     "metadata": {},
     "output_type": "execute_result"
    }
   ],
   "source": [
    "svrGrid = GridSearchCV(pipe_svr, svrParams)\n",
    "svrGrid.fit(X_train, y_train)"
   ]
  },
  {
   "cell_type": "code",
   "execution_count": 30,
   "id": "490cd3e1-3c94-41ee-a874-8c59b554c8fc",
   "metadata": {},
   "outputs": [
    {
     "data": {
      "text/plain": [
       "(0.8579060674976018, 0.7789327110384486)"
      ]
     },
     "execution_count": 30,
     "metadata": {},
     "output_type": "execute_result"
    }
   ],
   "source": [
    "svrGrid.score(X_train, y_train), svrGrid.score(X_test, y_test)"
   ]
  },
  {
   "cell_type": "code",
   "execution_count": 31,
   "id": "56f1e99a-367a-4a68-a3ae-0f70e76cdcf8",
   "metadata": {},
   "outputs": [],
   "source": [
    "svrParams2 = {\n",
    "    'svr__kernel' : ('linear', 'poly', 'rbf'),\n",
    "    'svr__C' : np.linspace(1, 20, 15),\n",
    "    #'svr__epsilon' : np.linspace(0.001, 0.1, 5)\n",
    "    \n",
    "}"
   ]
  },
  {
   "cell_type": "code",
   "execution_count": 32,
   "id": "412b43c2-fca3-4dfd-8129-e67f00d92442",
   "metadata": {},
   "outputs": [
    {
     "data": {
      "text/plain": [
       "(0.7797897170194731, 0.8221184531979548)"
      ]
     },
     "execution_count": 32,
     "metadata": {},
     "output_type": "execute_result"
    }
   ],
   "source": [
    "svrGrid2 = GridSearchCV(pipe_svr, svrParams2)\n",
    "svrGrid2.fit(X_train, y_train)\n",
    "svrGrid2.score(X_train, y_train), svrGrid2.score(X_test, y_test)"
   ]
  },
  {
   "cell_type": "code",
   "execution_count": 33,
   "id": "593bdee3-d08e-4a4f-bb29-4543ffde9a46",
   "metadata": {},
   "outputs": [
    {
     "data": {
      "text/plain": [
       "Pipeline(steps=[('sc', StandardScaler()),\n",
       "                ('svr', SVR(C=2.357142857142857, kernel='linear'))])"
      ]
     },
     "execution_count": 33,
     "metadata": {},
     "output_type": "execute_result"
    }
   ],
   "source": [
    "svrGrid2.best_estimator_"
   ]
  },
  {
   "cell_type": "code",
   "execution_count": 65,
   "id": "ffb254be-279c-4f74-a130-f606bff19466",
   "metadata": {},
   "outputs": [
    {
     "data": {
      "text/plain": [
       "0.04516328699960669"
      ]
     },
     "execution_count": 65,
     "metadata": {},
     "output_type": "execute_result"
    }
   ],
   "source": [
    "mean_squared_error(y_test, svrGrid2.predict(X_test), squared = False)"
   ]
  },
  {
   "cell_type": "markdown",
   "id": "bdab5bfe-6172-4d88-b17d-bc81c3497991",
   "metadata": {},
   "source": [
    "-----"
   ]
  },
  {
   "cell_type": "markdown",
   "id": "30d43d66-dc67-4c3e-9086-5d77d197271f",
   "metadata": {},
   "source": [
    "## RandomForest"
   ]
  },
  {
   "cell_type": "code",
   "execution_count": 37,
   "id": "919659b1-11a3-41a5-adae-7d364585f12e",
   "metadata": {},
   "outputs": [],
   "source": [
    "rf_params = {\n",
    "    'n_estimators':[5, 50, 100, 200, 400, 600],\n",
    "    'max_depth':[3, 5, 7, 10, 12]\n",
    "}"
   ]
  },
  {
   "cell_type": "code",
   "execution_count": 38,
   "id": "4dfab7ee-62c5-4dca-8403-824cbc1ba772",
   "metadata": {},
   "outputs": [],
   "source": [
    "rfr = RandomForestRegressor(random_state = 1, n_jobs = -1)"
   ]
  },
  {
   "cell_type": "code",
   "execution_count": 39,
   "id": "099d2414-dde3-4d1c-9d9a-971c5d481071",
   "metadata": {},
   "outputs": [],
   "source": [
    "rfrGrid = GridSearchCV(rfr, rf_params)"
   ]
  },
  {
   "cell_type": "code",
   "execution_count": 40,
   "id": "a230d636-4c30-4421-a5ef-ae2f1dcefe81",
   "metadata": {},
   "outputs": [
    {
     "data": {
      "text/plain": [
       "GridSearchCV(estimator=RandomForestRegressor(n_jobs=-1, random_state=1),\n",
       "             param_grid={'max_depth': [3, 5, 7, 10, 12],\n",
       "                         'n_estimators': [5, 50, 100, 200, 400, 600]})"
      ]
     },
     "execution_count": 40,
     "metadata": {},
     "output_type": "execute_result"
    }
   ],
   "source": [
    "rfrGrid.fit(X_train, y_train)"
   ]
  },
  {
   "cell_type": "code",
   "execution_count": 41,
   "id": "d70461d7-eea5-4a78-8cd2-418e1b549a2e",
   "metadata": {},
   "outputs": [
    {
     "data": {
      "text/plain": [
       "(0.9599463398717464, 0.8035692691497981)"
      ]
     },
     "execution_count": 41,
     "metadata": {},
     "output_type": "execute_result"
    }
   ],
   "source": [
    "rfrGrid.score(X_train, y_train), rfrGrid.score(X_test, y_test)"
   ]
  },
  {
   "cell_type": "code",
   "execution_count": 42,
   "id": "3bdf28d0-20a0-42ed-92df-3c2661dc964f",
   "metadata": {},
   "outputs": [
    {
     "data": {
      "text/plain": [
       "0.04745968049021866"
      ]
     },
     "execution_count": 42,
     "metadata": {},
     "output_type": "execute_result"
    }
   ],
   "source": [
    "mean_squared_error(y_test, rfrGrid.predict(X_test), squared = False)"
   ]
  },
  {
   "cell_type": "code",
   "execution_count": 43,
   "id": "dc63c9da-0dd4-4dd0-b53f-29d47173703f",
   "metadata": {},
   "outputs": [
    {
     "data": {
      "text/plain": [
       "RandomForestRegressor(max_depth=10, n_estimators=50, n_jobs=-1, random_state=1)"
      ]
     },
     "execution_count": 43,
     "metadata": {},
     "output_type": "execute_result"
    }
   ],
   "source": [
    "rfrGrid.best_estimator_"
   ]
  },
  {
   "cell_type": "code",
   "execution_count": 44,
   "id": "899a61e2-c115-4d46-b6df-728cde9207b1",
   "metadata": {},
   "outputs": [
    {
     "data": {
      "text/plain": [
       "0.7922193293871242"
      ]
     },
     "execution_count": 44,
     "metadata": {},
     "output_type": "execute_result"
    }
   ],
   "source": [
    "rfrGrid.best_score_"
   ]
  },
  {
   "cell_type": "markdown",
   "id": "2f2afc5c-4499-46fd-8a1e-8561b3f88da6",
   "metadata": {},
   "source": [
    "-----"
   ]
  },
  {
   "cell_type": "markdown",
   "id": "198bbc4a-a89c-4c1f-815b-f087576671f2",
   "metadata": {
    "tags": []
   },
   "source": [
    "## Decision Tree"
   ]
  },
  {
   "cell_type": "code",
   "execution_count": 45,
   "id": "3772e550-c5a7-45bd-beba-c158407f5836",
   "metadata": {},
   "outputs": [],
   "source": [
    "dt_params = {\n",
    "    'criterion':['squared_error', 'poisson', 'friedman_mse'],\n",
    "    'max_depth':[3, 5, 7, 10, 12]\n",
    "}"
   ]
  },
  {
   "cell_type": "code",
   "execution_count": 46,
   "id": "a4070042-b956-42f7-a8be-87ba8d7d7728",
   "metadata": {},
   "outputs": [],
   "source": [
    "dt = DecisionTreeRegressor(random_state = 1)"
   ]
  },
  {
   "cell_type": "code",
   "execution_count": 47,
   "id": "ec294b33-6b35-4e77-a9b8-8c24764cc705",
   "metadata": {},
   "outputs": [],
   "source": [
    "dtGrid = GridSearchCV(dt, dt_params)"
   ]
  },
  {
   "cell_type": "code",
   "execution_count": 48,
   "id": "3dae57d6-4379-41b1-b8f4-c338f4b44b87",
   "metadata": {},
   "outputs": [
    {
     "data": {
      "text/plain": [
       "GridSearchCV(estimator=DecisionTreeRegressor(random_state=1),\n",
       "             param_grid={'criterion': ['squared_error', 'poisson',\n",
       "                                       'friedman_mse'],\n",
       "                         'max_depth': [3, 5, 7, 10, 12]})"
      ]
     },
     "execution_count": 48,
     "metadata": {},
     "output_type": "execute_result"
    }
   ],
   "source": [
    "dtGrid.fit(X_train, y_train)"
   ]
  },
  {
   "cell_type": "code",
   "execution_count": 49,
   "id": "a615c75d-54f6-46a9-b114-d12e3e26c54f",
   "metadata": {},
   "outputs": [
    {
     "data": {
      "text/plain": [
       "(0.8531455825760528, 0.7784260721816214)"
      ]
     },
     "execution_count": 49,
     "metadata": {},
     "output_type": "execute_result"
    }
   ],
   "source": [
    "dtGrid.score(X_train, y_train), dtGrid.score(X_test, y_test)"
   ]
  },
  {
   "cell_type": "code",
   "execution_count": 50,
   "id": "f0fa9d21-5fb9-4874-8c8d-ece0c201fdfd",
   "metadata": {},
   "outputs": [
    {
     "data": {
      "text/plain": [
       "0.050405673512940244"
      ]
     },
     "execution_count": 50,
     "metadata": {},
     "output_type": "execute_result"
    }
   ],
   "source": [
    "mean_squared_error(y_test, dtGrid.predict(X_test), squared = False)"
   ]
  },
  {
   "cell_type": "code",
   "execution_count": 51,
   "id": "248682b4-3565-4f7e-8b6f-f9d819c0feea",
   "metadata": {},
   "outputs": [
    {
     "data": {
      "text/plain": [
       "DecisionTreeRegressor(max_depth=5, random_state=1)"
      ]
     },
     "execution_count": 51,
     "metadata": {},
     "output_type": "execute_result"
    }
   ],
   "source": [
    "dtGrid.best_estimator_"
   ]
  },
  {
   "cell_type": "markdown",
   "id": "f99aeb41-15f1-4894-9b62-6214452e3f04",
   "metadata": {},
   "source": [
    "----"
   ]
  },
  {
   "cell_type": "markdown",
   "id": "498f1a4b-f905-4d0a-b94b-de2ad891ccd2",
   "metadata": {},
   "source": [
    "## Bagging Regressor"
   ]
  },
  {
   "cell_type": "code",
   "execution_count": 52,
   "id": "6513cde8-c92b-433f-bede-c526c3ebf1f5",
   "metadata": {},
   "outputs": [],
   "source": [
    "bagr_params = {\n",
    "    'base_estimator' : [DecisionTreeRegressor(max_depth = 5, random_state = 1),\n",
    "                       RandomForestRegressor(max_depth = 10, n_estimators = 50, random_state = 1)],\n",
    "    'n_estimators' : [3, 5, 10, 20]\n",
    "}"
   ]
  },
  {
   "cell_type": "code",
   "execution_count": 53,
   "id": "11449e39-8e5e-4566-9f91-511c6b3789cd",
   "metadata": {},
   "outputs": [],
   "source": [
    "bagr = BaggingRegressor(random_state = 1, n_jobs = -1)"
   ]
  },
  {
   "cell_type": "code",
   "execution_count": 54,
   "id": "e622299b-cdd9-43ff-a26f-669910f96c85",
   "metadata": {},
   "outputs": [],
   "source": [
    "bagrGrid = GridSearchCV(bagr, bagr_params)"
   ]
  },
  {
   "cell_type": "code",
   "execution_count": 55,
   "id": "e31bbad8-69c9-48ae-a875-d66cd5f73c9a",
   "metadata": {},
   "outputs": [
    {
     "data": {
      "text/plain": [
       "GridSearchCV(estimator=BaggingRegressor(n_jobs=-1, random_state=1),\n",
       "             param_grid={'base_estimator': [DecisionTreeRegressor(max_depth=5,\n",
       "                                                                  random_state=1),\n",
       "                                            RandomForestRegressor(max_depth=10,\n",
       "                                                                  n_estimators=50,\n",
       "                                                                  random_state=1)],\n",
       "                         'n_estimators': [3, 5, 10, 20]})"
      ]
     },
     "execution_count": 55,
     "metadata": {},
     "output_type": "execute_result"
    }
   ],
   "source": [
    "bagrGrid.fit(X_train, y_train)"
   ]
  },
  {
   "cell_type": "code",
   "execution_count": 56,
   "id": "83ce46fd-747f-40f6-ac53-3301d41028e7",
   "metadata": {},
   "outputs": [
    {
     "data": {
      "text/plain": [
       "(0.9203384500209062, 0.8052485839119339)"
      ]
     },
     "execution_count": 56,
     "metadata": {},
     "output_type": "execute_result"
    }
   ],
   "source": [
    "bagrGrid.score(X_train, y_train), bagrGrid.score(X_test, y_test)"
   ]
  },
  {
   "cell_type": "code",
   "execution_count": 57,
   "id": "2a1e7ac3-f90b-498a-9f28-c7dc11c7f063",
   "metadata": {},
   "outputs": [
    {
     "data": {
      "text/plain": [
       "0.04725637519548107"
      ]
     },
     "execution_count": 57,
     "metadata": {},
     "output_type": "execute_result"
    }
   ],
   "source": [
    "mean_squared_error(y_test, bagrGrid.predict(X_test), squared = False)"
   ]
  },
  {
   "cell_type": "code",
   "execution_count": 58,
   "id": "2d430832-802d-4aae-ae64-75036635290e",
   "metadata": {},
   "outputs": [
    {
     "data": {
      "text/plain": [
       "BaggingRegressor(base_estimator=RandomForestRegressor(max_depth=10,\n",
       "                                                      n_estimators=50,\n",
       "                                                      random_state=1),\n",
       "                 n_estimators=20, n_jobs=-1, random_state=1)"
      ]
     },
     "execution_count": 58,
     "metadata": {},
     "output_type": "execute_result"
    }
   ],
   "source": [
    "bagrGrid.best_estimator_"
   ]
  },
  {
   "cell_type": "markdown",
   "id": "82fffbb8-f313-4c72-8ace-c7330e2c33d5",
   "metadata": {},
   "source": [
    "## Adaboosting"
   ]
  },
  {
   "cell_type": "code",
   "execution_count": 59,
   "id": "a2237aa3-fcf8-448c-be21-d9d76ea4dd39",
   "metadata": {},
   "outputs": [],
   "source": [
    "adaParams = {\n",
    "    'base_estimator' : [DecisionTreeRegressor(max_depth = 5, random_state = 1),\n",
    "                       RandomForestRegressor(max_depth = 10, n_estimators = 50, random_state = 1)],\n",
    "    'n_estimators' : [10, 25, 50, 75, 100]\n",
    "}"
   ]
  },
  {
   "cell_type": "code",
   "execution_count": 60,
   "id": "9cd7dee4-a1f4-45f4-9655-3947fb54c8fe",
   "metadata": {},
   "outputs": [],
   "source": [
    "adar = AdaBoostRegressor(random_state = 1)"
   ]
  },
  {
   "cell_type": "code",
   "execution_count": 61,
   "id": "1900aaff-67f8-4003-8521-480c4ae77d71",
   "metadata": {},
   "outputs": [
    {
     "data": {
      "text/plain": [
       "GridSearchCV(estimator=AdaBoostRegressor(random_state=1),\n",
       "             param_grid={'base_estimator': [DecisionTreeRegressor(max_depth=5,\n",
       "                                                                  random_state=1),\n",
       "                                            RandomForestRegressor(max_depth=10,\n",
       "                                                                  n_estimators=50,\n",
       "                                                                  random_state=1)],\n",
       "                         'n_estimators': [10, 25, 50, 75, 100]})"
      ]
     },
     "execution_count": 61,
     "metadata": {},
     "output_type": "execute_result"
    }
   ],
   "source": [
    "adarGrid = GridSearchCV(adar, adaParams)\n",
    "adarGrid.fit(X_train, y_train)"
   ]
  },
  {
   "cell_type": "code",
   "execution_count": 62,
   "id": "e8638b2d-36fd-4636-bbed-d1f1b594b981",
   "metadata": {},
   "outputs": [
    {
     "data": {
      "text/plain": [
       "(0.9806345641517781, 0.8222371629284587)"
      ]
     },
     "execution_count": 62,
     "metadata": {},
     "output_type": "execute_result"
    }
   ],
   "source": [
    "adarGrid.score(X_train, y_train), adarGrid.score(X_test, y_test)"
   ]
  },
  {
   "cell_type": "code",
   "execution_count": 63,
   "id": "8a8376f3-37f9-4e7b-974e-3f8e816a1527",
   "metadata": {},
   "outputs": [
    {
     "data": {
      "text/plain": [
       "0.045148214563773686"
      ]
     },
     "execution_count": 63,
     "metadata": {},
     "output_type": "execute_result"
    }
   ],
   "source": [
    "mean_squared_error(y_test, adarGrid.predict(X_test), squared = False)"
   ]
  },
  {
   "cell_type": "code",
   "execution_count": 64,
   "id": "a77ef572-2ac4-4bae-915b-cecae77c8245",
   "metadata": {},
   "outputs": [
    {
     "data": {
      "text/plain": [
       "AdaBoostRegressor(base_estimator=RandomForestRegressor(max_depth=10,\n",
       "                                                       n_estimators=50,\n",
       "                                                       random_state=1),\n",
       "                  n_estimators=75, random_state=1)"
      ]
     },
     "execution_count": 64,
     "metadata": {},
     "output_type": "execute_result"
    }
   ],
   "source": [
    "adarGrid.best_estimator_"
   ]
  },
  {
   "cell_type": "markdown",
   "id": "5d91a55a-fa8a-4253-ab53-2d1664307e93",
   "metadata": {},
   "source": [
    "-----"
   ]
  },
  {
   "cell_type": "markdown",
   "id": "c317167c-83bb-4884-abd4-7eccd6f899d7",
   "metadata": {},
   "source": [
    "## Voting Regressor"
   ]
  },
  {
   "cell_type": "code",
   "execution_count": 85,
   "id": "580cefb6-8689-423d-8d6d-e17c3943cdae",
   "metadata": {},
   "outputs": [],
   "source": [
    "r1 = AdaBoostRegressor(base_estimator = RandomForestRegressor(max_depth = 10,\n",
    "                                                             n_estimators = 50,\n",
    "                                                             random_state = 1),\n",
    "                      n_estimators = 75,\n",
    "                      random_state = 1)"
   ]
  },
  {
   "cell_type": "code",
   "execution_count": 88,
   "id": "5af5e6ff-1222-4a46-8a32-a50fa66e502f",
   "metadata": {},
   "outputs": [],
   "source": [
    "r2 = Ridge(alpha = 5.0, max_iter = 10_000)"
   ]
  },
  {
   "cell_type": "code",
   "execution_count": 91,
   "id": "49efddff-363c-4165-a271-8383c048a304",
   "metadata": {},
   "outputs": [],
   "source": [
    "r3 = Pipeline(\n",
    "    [\n",
    "        ('sc', StandardScaler()),\n",
    "        ('svr', SVR(C = 2.357142857142857, kernel = 'linear'))\n",
    "    ]\n",
    ")"
   ]
  },
  {
   "cell_type": "code",
   "execution_count": 95,
   "id": "9bf2ded2-fdcb-4b4b-bd98-ccb622f1c2f8",
   "metadata": {},
   "outputs": [],
   "source": [
    "r4 = BaggingRegressor(base_estimator = RandomForestRegressor(max_depth = 10,\n",
    "                                                            n_estimators = 50,\n",
    "                                                            random_state = 1),\n",
    "                      n_estimators = 20,\n",
    "                      n_jobs = -1,\n",
    "                      random_state = 1\n",
    "                     )"
   ]
  },
  {
   "cell_type": "code",
   "execution_count": 99,
   "id": "73c25883-3cef-48ad-a22b-3b5a3ec20a49",
   "metadata": {},
   "outputs": [],
   "source": [
    "voteReg = VotingRegressor(\n",
    "    [\n",
    "        ('ada', r1),\n",
    "        ('rid', r2),\n",
    "        ('svr', r3),\n",
    "        #('bagr', r4)\n",
    "    ]\n",
    ")"
   ]
  },
  {
   "cell_type": "code",
   "execution_count": 100,
   "id": "ef0047b0-c031-43ae-b3c9-d060559e6738",
   "metadata": {},
   "outputs": [
    {
     "data": {
      "text/plain": [
       "VotingRegressor(estimators=[('ada',\n",
       "                             AdaBoostRegressor(base_estimator=RandomForestRegressor(max_depth=10,\n",
       "                                                                                    n_estimators=50,\n",
       "                                                                                    random_state=1),\n",
       "                                               n_estimators=75,\n",
       "                                               random_state=1)),\n",
       "                            ('rid', Ridge(alpha=5.0, max_iter=10000)),\n",
       "                            ('svr',\n",
       "                             Pipeline(steps=[('sc', StandardScaler()),\n",
       "                                             ('svr',\n",
       "                                              SVR(C=2.357142857142857,\n",
       "                                                  kernel='linear'))]))])"
      ]
     },
     "execution_count": 100,
     "metadata": {},
     "output_type": "execute_result"
    }
   ],
   "source": [
    "voteReg.fit(X_train, y_train)"
   ]
  },
  {
   "cell_type": "code",
   "execution_count": 101,
   "id": "0e8ab656-5fa2-40e0-b2fb-4cb785b62a9c",
   "metadata": {},
   "outputs": [
    {
     "data": {
      "text/plain": [
       "(0.9049962269920482, 0.853094767386155)"
      ]
     },
     "execution_count": 101,
     "metadata": {},
     "output_type": "execute_result"
    }
   ],
   "source": [
    "voteReg.score(X_train, y_train), voteReg.score(X_test, y_test)"
   ]
  },
  {
   "cell_type": "code",
   "execution_count": 118,
   "id": "ca85718b-039a-4055-9dad-4255a75e8601",
   "metadata": {},
   "outputs": [
    {
     "data": {
      "text/plain": [
       "0.04104296492387098"
      ]
     },
     "execution_count": 118,
     "metadata": {},
     "output_type": "execute_result"
    }
   ],
   "source": [
    "mean_squared_error(y_test, voteReg.predict(X_test), squared = False)"
   ]
  },
  {
   "cell_type": "code",
   "execution_count": 102,
   "id": "819398fe-719d-40e1-90b4-703b0ad90141",
   "metadata": {},
   "outputs": [
    {
     "name": "stderr",
     "output_type": "stream",
     "text": [
      "/Users/danielsun/opt/anaconda3/lib/python3.9/site-packages/seaborn/_decorators.py:36: FutureWarning: Pass the following variables as keyword args: x, y. From version 0.12, the only valid positional argument will be `data`, and passing other arguments without an explicit keyword will result in an error or misinterpretation.\n",
      "  warnings.warn(\n"
     ]
    },
    {
     "data": {
      "text/plain": [
       "[<matplotlib.lines.Line2D at 0x7ffc0d5af2e0>]"
      ]
     },
     "execution_count": 102,
     "metadata": {},
     "output_type": "execute_result"
    },
    {
     "data": {
      "image/png": "[encoded data removed]",
      "text/plain": [
       "<Figure size 432x288 with 1 Axes>"
      ]
     },
     "metadata": {
      "needs_background": "light"
     },
     "output_type": "display_data"
    }
   ],
   "source": [
    "sns.regplot(y_test, voteReg.predict(X_test), line_kws = {'color': 'red'}).set(title = 'Predicted Impact vs True Impact',\n",
    "                                                                              xlabel = 'Predicted Impact',\n",
    "                                                                              ylabel = 'True Impact')\n",
    "plt.plot(np.linspace(0.7, 1.5), np.linspace(0.7, 1.5))"
   ]
  },
  {
   "cell_type": "code",
   "execution_count": 114,
   "id": "aa525755-f650-4d81-bd33-7b3189a0edbe",
   "metadata": {},
   "outputs": [],
   "source": [
    "voteRegWeights = {\n",
    "    'weights' : [[.5, .25, .25], [.25, .5, .25], [.25, .25, .5]]\n",
    "}"
   ]
  },
  {
   "cell_type": "code",
   "execution_count": 115,
   "id": "8487afe4-ddcc-4c05-b64b-623509be976f",
   "metadata": {},
   "outputs": [],
   "source": [
    "voteRegGrid = GridSearchCV(voteReg, voteRegWeights)"
   ]
  },
  {
   "cell_type": "code",
   "execution_count": 116,
   "id": "7707a4ee-ca7f-4801-9ea1-b528fa71671a",
   "metadata": {},
   "outputs": [
    {
     "data": {
      "text/plain": [
       "GridSearchCV(estimator=VotingRegressor(estimators=[('ada',\n",
       "                                                    AdaBoostRegressor(base_estimator=RandomForestRegressor(max_depth=10,\n",
       "                                                                                                           n_estimators=50,\n",
       "                                                                                                           random_state=1),\n",
       "                                                                      n_estimators=75,\n",
       "                                                                      random_state=1)),\n",
       "                                                   ('rid',\n",
       "                                                    Ridge(alpha=5.0,\n",
       "                                                          max_iter=10000)),\n",
       "                                                   ('svr',\n",
       "                                                    Pipeline(steps=[('sc',\n",
       "                                                                     StandardScaler()),\n",
       "                                                                    ('svr',\n",
       "                                                                     SVR(C=2.357142857142857,\n",
       "                                                                         kernel='linear'))]))]),\n",
       "             param_grid={'weights': [[0.5, 0.25, 0.25], [0.25, 0.5, 0.25],\n",
       "                                     [0.25, 0.25, 0.5]]})"
      ]
     },
     "execution_count": 116,
     "metadata": {},
     "output_type": "execute_result"
    }
   ],
   "source": [
    "voteRegGrid.fit(X_train, y_train)"
   ]
  },
  {
   "cell_type": "code",
   "execution_count": 117,
   "id": "324663ea-8d47-4b8c-97d3-d14312cf99cd",
   "metadata": {},
   "outputs": [
    {
     "data": {
      "text/plain": [
       "(0.9336855951796666, 0.8514072347061451)"
      ]
     },
     "execution_count": 117,
     "metadata": {},
     "output_type": "execute_result"
    }
   ],
   "source": [
    "voteRegGrid.score(X_train, y_train), voteRegGrid.score(X_test, y_test)"
   ]
  }
 ],
 "metadata": {
  "kernelspec": {
   "display_name": "Python 3 (ipykernel)",
   "language": "python",
   "name": "python3"
  },
  "language_info": {
   "codemirror_mode": {
    "name": "ipython",
    "version": 3
   },
   "file_extension": ".py",
   "mimetype": "text/x-python",
   "name": "python",
   "nbconvert_exporter": "python",
   "pygments_lexer": "ipython3",
   "version": "3.9.7"
  }
 },
 "nbformat": 4,
 "nbformat_minor": 5
}
